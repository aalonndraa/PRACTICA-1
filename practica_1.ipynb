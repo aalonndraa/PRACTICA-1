{
  "nbformat": 4,
  "nbformat_minor": 0,
  "metadata": {
    "colab": {
      "private_outputs": true,
      "provenance": []
    },
    "kernelspec": {
      "name": "python3",
      "display_name": "Python 3"
    },
    "language_info": {
      "name": "python"
    }
  },
  "cells": [
    {
      "cell_type": "code",
      "source": [
        "import operator\n",
        "\n",
        "def precedence(op):\n",
        "    \"\"\"Devuelve la precedencia del operador.\"\"\"\n",
        "    precedences = {'+': 1, '-': 1, '*': 2, '/': 2, '**': 3}\n",
        "    return precedences[op] if op in precedences else 0\n",
        "\n",
        "def to_postfix(expression):\n",
        "    \"\"\"Convierte una expresión aritmética regular a notación polaca inversa (postfijo).\"\"\" # La polaca inversa es una notacion en la que los operadores preceden a los operandos\n",
        "    # Pila para almacenar operadores\n",
        "    stack = []\n",
        "    # Lista para la salida de notación polaca inversa\n",
        "    output = []\n",
        "\n",
        "    # Divide la expresión por espacios\n",
        "    tokens = expression.split()\n",
        "\n",
        "    # Itera sobre cada símbolo en la expresión\n",
        "    # La entrada es una lista de tokens que van a representar la expresión en polaca inversa\n",
        "    for token in tokens:\n",
        "        if token.isdigit():  # Si el token es un número\n",
        "            output.append(token)\n",
        "        elif token == '(':\n",
        "            stack.append(token)\n",
        "        elif token == ')':\n",
        "            while stack and stack[-1] != '(':\n",
        "                output.append(stack.pop())\n",
        "            stack.pop()  # Elimina el paréntesis izquierdo\n",
        "        else:  # El token es un operador\n",
        "            while (stack and precedence(stack[-1]) >= precedence(token)):\n",
        "                output.append(stack.pop())\n",
        "            stack.append(token)\n",
        "\n",
        "    # Agrega los operadores restantes en la pila a la salida\n",
        "    # La salida será el resultado de evaluar la expresión\n",
        "    while stack:\n",
        "        output.append(stack.pop())\n",
        "\n",
        "    return ' '.join(output)\n",
        "\n",
        "def write_report(expression, steps):\n",
        "    \"\"\"Genera un archivo de reporte con los pasos seguidos para la conversión.\"\"\"\n",
        "    with open('conversion_report.txt', 'w') as file:\n",
        "        file.write(f\"Expresión original: {expression}\\n\")\n",
        "        file.write(f\"Notación polaca inversa: {steps}\\n\")\n",
        "        file.write(\"\\nPasos seguidos:\\n\")\n",
        "        for step in steps:\n",
        "            file.write(step + '\\n')\n",
        "\n",
        "def main():\n",
        "    \"\"\"Función principal del programa.\"\"\"\n",
        "    expression = input(\"Introduce una expresión aritmética regular (con espacios entre los elementos): \")\n",
        "\n",
        "    # Convierte la expresión a notación polaca inversa\n",
        "    postfix_expression = to_postfix(expression)\n",
        "\n",
        "    # Genera un reporte de la conversión\n",
        "    write_report(expression, postfix_expression)\n",
        "\n",
        "    print(f\"Expresión en notación polaca inversa: {postfix_expression}\")\n",
        "    print(\"El reporte de la conversión se ha guardado en 'conversion_report.txt'.\")\n",
        "\n",
        "if __name__ == \"__main__\":\n",
        "    main()"
      ],
      "metadata": {
        "id": "zrhz0JJIj5Im"
      },
      "execution_count": null,
      "outputs": []
    }
  ]
}